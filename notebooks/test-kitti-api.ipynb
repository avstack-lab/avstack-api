{
 "cells": [
  {
   "cell_type": "code",
   "execution_count": null,
   "id": "ac828631",
   "metadata": {},
   "outputs": [],
   "source": [
    "import sys, os\n",
    "sys.path.append('..')\n",
    "import avstack\n",
    "import avapi\n",
    "import numpy as np\n",
    "import quaternion\n",
    "%load_ext autoreload\n",
    "%autoreload 2\n",
    "\n",
    "obj_data_dir_k = '/data/spencer/KITTI/object'\n",
    "raw_data_dir_k = '/data/spencer/KITTI/raw'\n",
    "data_dir_n = '/data/spencer/nuScenes/'\n",
    "\n",
    "# -- static dataset\n",
    "KOD = avapi.kitti.KittiObjectDataset\n",
    "KDM = KOD(obj_data_dir_k, 'training')\n",
    "\n",
    "# -- raw dataset\n",
    "KRD = avapi.kitti.KittiRawDataset(raw_data_dir_k)"
   ]
  },
  {
   "cell_type": "code",
   "execution_count": null,
   "id": "29bc1d0a",
   "metadata": {},
   "outputs": [],
   "source": [
    "idx_date = 0\n",
    "idx_seq = 2\n",
    "exp_path = KRD.convert_sequence(KRD.get_available_dates()[idx_date], idx_seq=idx_seq,\n",
    "                                max_frames=None, max_time=None, tracklets_req=True)\n",
    "KDM = KOD(obj_data_dir_k, exp_path)"
   ]
  },
  {
   "cell_type": "markdown",
   "id": "c14408ea",
   "metadata": {},
   "source": [
    "## Test visuals"
   ]
  },
  {
   "cell_type": "code",
   "execution_count": null,
   "id": "544b34cd",
   "metadata": {},
   "outputs": [],
   "source": [
    "frame = KDM.frames[30]\n",
    "img = KDM.get_image(frame, sensor='image-2')\n",
    "pc = KDM.get_lidar(frame)\n",
    "objects = KDM.get_objects(frame)\n",
    "avapi.visualize.show_objects_on_image(img, objects, projection='3d', inline=True)\n",
    "avapi.visualize.show_lidar_on_image(pc, img)"
   ]
  },
  {
   "cell_type": "markdown",
   "id": "6701aa6d",
   "metadata": {},
   "source": [
    "## Test Detection"
   ]
  },
  {
   "cell_type": "code",
   "execution_count": null,
   "id": "a9e22378",
   "metadata": {},
   "outputs": [],
   "source": [
    "M2D = avstack.modules.perception.object2dfv.MMDetObjectDetector2D(\n",
    "    model='cascade_mask_rcnn',dataset='kitti', gpu=1)\n",
    "\n",
    "M = avstack.modules.perception.object3d.MMDetObjectDetector3D(\n",
    "    model='pgd',dataset='kitti', gpu=1)"
   ]
  },
  {
   "cell_type": "code",
   "execution_count": null,
   "id": "16e518b7",
   "metadata": {},
   "outputs": [],
   "source": [
    "frame = KDM.frames[150]\n",
    "img = KDM.get_image(frame, sensor='image-2')\n",
    "pc = KDM.get_lidar(frame)\n",
    "objects = KDM.get_objects(frame)\n",
    "\n",
    "# outputs = M2D(frame, img, 'test')\n",
    "outputs = M(frame, img, 'test')\n",
    "# outputs = M(frame, pc, 'test')\n",
    "avapi.visualize.show_image_with_boxes(img, outputs.data, inline=True)"
   ]
  },
  {
   "cell_type": "code",
   "execution_count": null,
   "id": "532856fb",
   "metadata": {},
   "outputs": [],
   "source": [
    "outputs.data"
   ]
  },
  {
   "cell_type": "markdown",
   "id": "7fb18dbd",
   "metadata": {},
   "source": [
    "## Test Raw Dataset Scenes"
   ]
  },
  {
   "cell_type": "code",
   "execution_count": null,
   "id": "5dc3c221",
   "metadata": {},
   "outputs": [],
   "source": [
    "KRD_ = avapi.kitti.KittiRawDataset\n",
    "RD = KRD_(raw_data_dir_k)"
   ]
  },
  {
   "cell_type": "code",
   "execution_count": null,
   "id": "8b3ff8a8",
   "metadata": {},
   "outputs": [],
   "source": [
    "def make_krdm(idx_date, idx_seq, remake_data=False):\n",
    "    dates = RD.get_available_dates()\n",
    "    sequence_ids = RD.get_sequence_ids_at_date(dates[idx_date], True)\n",
    "    if remake_data:\n",
    "        exp_path = RD.convert_sequence(dates[idx_date], idx_seq=idx_seq,\n",
    "                    max_frames=None, max_time=None, tracklets_req=True,\n",
    "                    path_append='-experiment', verbose=True)\n",
    "    else:\n",
    "        _, exp_path, _ = RD.get_converted_exp_path(dates[idx_date], idx_seq=idx_seq,\n",
    "                        tracklets_req=True, path_append='-experiment')\n",
    "        if not os.path.exists(exp_path):\n",
    "            raise RuntimeError('No data found at %s' % exp_path)\n",
    "    RDM = KOD(obj_data_dir_k, exp_path.split('/')[-1])\n",
    "    return RDM"
   ]
  },
  {
   "cell_type": "code",
   "execution_count": null,
   "id": "968ccd90",
   "metadata": {},
   "outputs": [],
   "source": [
    "available_scenes = []\n",
    "\n",
    "for idx_date in range(len(RD.get_available_dates())):\n",
    "    idx_seq = 0\n",
    "    while True:\n",
    "        try:\n",
    "            DM = make_krdm(idx_date, idx_seq, remake_data=False)\n",
    "        except RuntimeError as e:\n",
    "            DM = make_krdm(idx_date, idx_seq, remake_data=True)\n",
    "        except IndexError as e:\n",
    "            print(f'Combo ({idx_date}, {idx_seq}) does not work')\n",
    "            break\n",
    "        print(f'Found scene combo ({idx_date}, {idx_seq})')\n",
    "        available_scenes.append((idx_date, idx_seq))\n",
    "        idx_seq += 1\n"
   ]
  },
  {
   "cell_type": "code",
   "execution_count": null,
   "id": "d53b0cd0",
   "metadata": {},
   "outputs": [],
   "source": []
  }
 ],
 "metadata": {
  "kernelspec": {
   "display_name": "Python 3 (ipykernel)",
   "language": "python",
   "name": "python3"
  },
  "language_info": {
   "codemirror_mode": {
    "name": "ipython",
    "version": 3
   },
   "file_extension": ".py",
   "mimetype": "text/x-python",
   "name": "python",
   "nbconvert_exporter": "python",
   "pygments_lexer": "ipython3",
   "version": "3.9.5"
  }
 },
 "nbformat": 4,
 "nbformat_minor": 5
}
