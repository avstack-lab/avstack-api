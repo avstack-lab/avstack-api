{
 "cells": [
  {
   "cell_type": "code",
   "execution_count": null,
   "id": "ac828631",
   "metadata": {},
   "outputs": [],
   "source": [
    "import os\n",
    "import avstack\n",
    "import avapi\n",
    "import numpy as np\n",
    "import quaternion\n",
    "\n",
    "%load_ext autoreload\n",
    "%autoreload 2\n",
    "\n",
    "obj_data_dir_k = '../data/KITTI/object'\n",
    "raw_data_dir_k = '../data/KITTI/raw'\n",
    "\n",
    "KOD = avapi.kitti.KittiObjectDataset\n",
    "KRD = avapi.kitti.KittiRawDataset(raw_data_dir_k)"
   ]
  },
  {
   "cell_type": "code",
   "execution_count": null,
   "id": "29bc1d0a",
   "metadata": {},
   "outputs": [],
   "source": [
    "# Convert raw dataset instance to the \"object\" format\n",
    "idx_date = 0\n",
    "idx_seq = 2\n",
    "exp_path = KRD.convert_sequence(KRD.get_available_dates()[idx_date], idx_seq=idx_seq,\n",
    "                                max_frames=None, max_time=None, tracklets_req=True)\n",
    "print(f'\\nRaw data has been converted to object format and saved at {exp_path}')\n",
    "KDM = KOD(obj_data_dir_k, exp_path)"
   ]
  },
  {
   "cell_type": "markdown",
   "id": "c14408ea",
   "metadata": {},
   "source": [
    "## Test Visualization"
   ]
  },
  {
   "cell_type": "code",
   "execution_count": null,
   "id": "544b34cd",
   "metadata": {},
   "outputs": [],
   "source": [
    "# Single frame visualization\n",
    "frame = KDM.frames[30]\n",
    "img = KDM.get_image(frame, sensor='image-2')\n",
    "pc = KDM.get_lidar(frame)\n",
    "objects = KDM.get_objects(frame)\n",
    "avapi.visualize.snapshot.show_objects_on_image(img, objects, projection='3d', inline=True)\n",
    "avapi.visualize.snapshot.show_lidar_on_image(pc, img)"
   ]
  },
  {
   "cell_type": "code",
   "execution_count": null,
   "id": "9166651a",
   "metadata": {},
   "outputs": [],
   "source": [
    "# Multi frame (movie) visualization -- this only makes sense for scenes from raw dataset\n"
   ]
  },
  {
   "cell_type": "markdown",
   "id": "6701aa6d",
   "metadata": {},
   "source": [
    "## Test Detection"
   ]
  },
  {
   "cell_type": "code",
   "execution_count": null,
   "id": "a9e22378",
   "metadata": {},
   "outputs": [],
   "source": [
    "M2D = avstack.modules.perception.object2dfv.MMDetObjectDetector2D(\n",
    "    model='cascade_mask_rcnn', dataset='kitti', gpu=1)\n",
    "\n",
    "# M3D_img = avstack.modules.perception.object3d.MMDetObjectDetector3D(\n",
    "#     model='pgd', dataset='kitti', gpu=0)\n",
    "\n",
    "# M3D_pc = avstack.modules.perception.object3d.MMDetObjectDetector3D(\n",
    "#     model='pointpillars', dataset='kitti', gpu=1)"
   ]
  },
  {
   "cell_type": "code",
   "execution_count": null,
   "id": "16e518b7",
   "metadata": {},
   "outputs": [],
   "source": [
    "frame = KDM.frames[150]\n",
    "img = KDM.get_image(frame, sensor='image-2')\n",
    "pc = KDM.get_lidar(frame)\n",
    "objects = KDM.get_objects(frame)\n",
    "\n",
    "# outputs = M2D(img, identifier='test', frame=frame)\n",
    "outputs = M3D_img(img, identifier='test', frame=frame)\n",
    "# outputs = M3D_pc(pc, identifier='test', frame=frame)\n",
    "avapi.visualize.snapshot.show_image_with_boxes(img, outputs.data, inline=True)"
   ]
  },
  {
   "cell_type": "code",
   "execution_count": null,
   "id": "aa42f4b9",
   "metadata": {},
   "outputs": [],
   "source": []
  }
 ],
 "metadata": {
  "kernelspec": {
   "display_name": "Python 3 (ipykernel)",
   "language": "python",
   "name": "python3"
  },
  "language_info": {
   "codemirror_mode": {
    "name": "ipython",
    "version": 3
   },
   "file_extension": ".py",
   "mimetype": "text/x-python",
   "name": "python",
   "nbconvert_exporter": "python",
   "pygments_lexer": "ipython3",
   "version": "3.8.16"
  },
  "vscode": {
   "interpreter": {
    "hash": "916dbcbb3f70747c44a77c7bcd40155683ae19c65e1c03b4aa3499c5328201f1"
   }
  }
 },
 "nbformat": 4,
 "nbformat_minor": 5
}
