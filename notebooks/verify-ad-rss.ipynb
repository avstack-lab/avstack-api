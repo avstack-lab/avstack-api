{
 "cells": [
  {
   "cell_type": "code",
   "execution_count": 3,
   "id": "31dc7191",
   "metadata": {},
   "outputs": [
    {
     "ename": "ModuleNotFoundError",
     "evalue": "RSS is not working right now...check back later",
     "output_type": "error",
     "traceback": [
      "\u001b[0;31m---------------------------------------------------------------------------\u001b[0m",
      "\u001b[0;31mModuleNotFoundError\u001b[0m                       Traceback (most recent call last)",
      "Cell \u001b[0;32mIn[3], line 6\u001b[0m\n\u001b[1;32m      3\u001b[0m \u001b[38;5;28;01mfrom\u001b[39;00m \u001b[38;5;21;01mavstack\u001b[39;00m\u001b[38;5;21;01m.\u001b[39;00m\u001b[38;5;21;01mgeometry\u001b[39;00m \u001b[38;5;28;01mimport\u001b[39;00m StandardCoordinates, bbox\n\u001b[1;32m      5\u001b[0m \u001b[38;5;28;01mif\u001b[39;00m \u001b[38;5;129;01mnot\u001b[39;00m safety\u001b[38;5;241m.\u001b[39muse_rss:\n\u001b[0;32m----> 6\u001b[0m     \u001b[38;5;28;01mraise\u001b[39;00m \u001b[38;5;167;01mModuleNotFoundError\u001b[39;00m(\u001b[38;5;124m'\u001b[39m\u001b[38;5;124mRSS is not working right now...check back later\u001b[39m\u001b[38;5;124m'\u001b[39m)\n\u001b[1;32m      7\u001b[0m \u001b[38;5;66;03m#     raise ModuleNotFoundError('Cannot import RSS...did you source the RSS install before running jupyter?'\u001b[39;00m\n\u001b[1;32m      8\u001b[0m \u001b[38;5;66;03m#                              'If you have not yet set up RSS on your no machine, follow the setup instructions from lib-avstack-core.'\u001b[39;00m\n\u001b[1;32m      9\u001b[0m \u001b[38;5;66;03m#                              'If you have set up RSS, then from lib-avstack-api directory, run:'\u001b[39;00m\n\u001b[1;32m     10\u001b[0m \u001b[38;5;66;03m#                              'cd ../../')\u001b[39;00m\n",
      "\u001b[0;31mModuleNotFoundError\u001b[0m: RSS is not working right now...check back later"
     ]
    }
   ],
   "source": [
    "import numpy as np\n",
    "from avstack.modules import safety, localization\n",
    "from avstack.geometry import StandardCoordinates, bbox\n",
    "\n",
    "if not safety.use_rss:\n",
    "    raise ModuleNotFoundError('RSS is not working right now...check back later')\n",
    "#     raise ModuleNotFoundError('Cannot import RSS...did you source the RSS install before running jupyter?'\n",
    "#                              'If you have not yet set up RSS on your no machine, follow the setup instructions from lib-avstack-core.'\n",
    "#                              'If you have set up RSS, then from lib-avstack-api directory, run:'\n",
    "#                              'cd ../../')"
   ]
  },
  {
   "cell_type": "code",
   "execution_count": null,
   "id": "3ddf3a1f",
   "metadata": {},
   "outputs": [],
   "source": [
    "def get_ego():\n",
    "    pos = np.random.rand(3)\n",
    "    box = bbox.Box3D([2,2,4,[0,0,0],0], StandardCoordinates)  # box in local coordinates\n",
    "    vel = 5*np.array([1,0,0])\n",
    "    acc = np.random.rand(3)\n",
    "    rot = np.eye(3)\n",
    "    ang = np.zeros(3)\n",
    "    ego_init = localization.VehicleState('car')\n",
    "    ego_init.set(0, pos, box, vel, acc, rot, ang, coordinates=StandardCoordinates)\n",
    "    return ego_init\n",
    "\n",
    "\n",
    "def get_object(ego, dist):\n",
    "    pos_obj = ego.position + dist*np.array([1,0,0])\n",
    "    box_obj = bbox.Box3D([2,2,4,[0,0,0],0], StandardCoordinates)  # box in local coordinates\n",
    "    vel_obj = 4*np.array([1,-2,0])\n",
    "    acc_obj = np.random.rand(3)\n",
    "    rot_obj = np.eye(3)\n",
    "    ang_obj = np.zeros(3)\n",
    "    obj = localization.VehicleState('car')\n",
    "    obj.set(0, pos_obj, box_obj, vel_obj, acc_obj, rot_obj, ang_obj, coordinates=StandardCoordinates)\n",
    "    return obj"
   ]
  },
  {
   "cell_type": "code",
   "execution_count": null,
   "id": "a4514978",
   "metadata": {},
   "outputs": [],
   "source": [
    "def test_rss_interface(dist):\n",
    "    ego = get_ego()\n",
    "    obj = get_object(ego, dist)\n",
    "    rss_eval = safety.RssEvaluator()\n",
    "    safety_out = rss_eval(ego, [obj])\n",
    "    return safety_out"
   ]
  },
  {
   "cell_type": "code",
   "execution_count": 4,
   "id": "1d58fa5f",
   "metadata": {},
   "outputs": [
    {
     "ename": "NameError",
     "evalue": "name 'test_rss_interface' is not defined",
     "output_type": "error",
     "traceback": [
      "\u001b[0;31m---------------------------------------------------------------------------\u001b[0m",
      "\u001b[0;31mNameError\u001b[0m                                 Traceback (most recent call last)",
      "Cell \u001b[0;32mIn[4], line 3\u001b[0m\n\u001b[1;32m      1\u001b[0m results \u001b[38;5;241m=\u001b[39m []\n\u001b[1;32m      2\u001b[0m \u001b[38;5;28;01mfor\u001b[39;00m d \u001b[38;5;129;01min\u001b[39;00m \u001b[38;5;28mrange\u001b[39m(\u001b[38;5;241m40\u001b[39m, \u001b[38;5;241m0\u001b[39m, \u001b[38;5;241m-\u001b[39m\u001b[38;5;241m5\u001b[39m):\n\u001b[0;32m----> 3\u001b[0m     results\u001b[38;5;241m.\u001b[39mappend((d, \u001b[43mtest_rss_interface\u001b[49m(d)))\n",
      "\u001b[0;31mNameError\u001b[0m: name 'test_rss_interface' is not defined"
     ]
    }
   ],
   "source": [
    "results = []\n",
    "for d in range(40, 0, -5):\n",
    "    results.append((d, test_rss_interface(d)))\n",
    "    print(f'{d} -- safe: {results[-1][1][\"safe\"]}')"
   ]
  },
  {
   "cell_type": "code",
   "execution_count": null,
   "id": "2a90fef4",
   "metadata": {},
   "outputs": [],
   "source": []
  },
  {
   "cell_type": "code",
   "execution_count": null,
   "id": "d156b57e",
   "metadata": {},
   "outputs": [],
   "source": []
  }
 ],
 "metadata": {
  "kernelspec": {
   "display_name": "Python 3 (ipykernel)",
   "language": "python",
   "name": "python3"
  },
  "language_info": {
   "codemirror_mode": {
    "name": "ipython",
    "version": 3
   },
   "file_extension": ".py",
   "mimetype": "text/x-python",
   "name": "python",
   "nbconvert_exporter": "python",
   "pygments_lexer": "ipython3",
   "version": "3.8.16"
  },
  "vscode": {
   "interpreter": {
    "hash": "916dbcbb3f70747c44a77c7bcd40155683ae19c65e1c03b4aa3499c5328201f1"
   }
  }
 },
 "nbformat": 4,
 "nbformat_minor": 5
}
