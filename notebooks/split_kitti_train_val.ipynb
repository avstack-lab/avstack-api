{
 "cells": [
  {
   "cell_type": "code",
   "execution_count": null,
   "id": "a78789e3",
   "metadata": {},
   "outputs": [],
   "source": [
    "import avstack\n",
    "import avapi\n",
    "import os\n",
    "import shutil\n",
    "from tqdm import tqdm"
   ]
  },
  {
   "cell_type": "code",
   "execution_count": null,
   "id": "2a91aa2c",
   "metadata": {},
   "outputs": [],
   "source": [
    "train_folder = '/data/spencer/KITTI/object/train_only'\n",
    "val_folder = '/data/spencer/KITTI/object/val_only'\n",
    "obj_data_dir = '/data/spencer/KITTI/object'\n",
    "folders = [train_folder, val_folder]\n",
    "subfolders = ['velodyne', 'image_2', 'image_3', 'planes', 'label_2', 'calib']\n",
    "exts       = ['.bin',     '.png',    '.png',    '.txt',   '.txt',    '.txt']\n",
    "for fol in folders:\n",
    "    os.makedirs(fol, exist_ok=True)\n",
    "    os.makedirs(fol, exist_ok=True)\n",
    "    for sub in subfolders:\n",
    "        os.makedirs(os.path.join(fol, sub), exist_ok=True)"
   ]
  },
  {
   "cell_type": "code",
   "execution_count": null,
   "id": "4d9763ed",
   "metadata": {},
   "outputs": [],
   "source": [
    "KDM = avapi.kitti.KittiObjectDataset(obj_data_dir, 'training')\n",
    "with open(os.path.join('/data/spencer/KITTI/object/ImageSets/train.txt'), 'r') as f:\n",
    "    idxs_train_only = [int(s.strip()) for s in f.readlines()]\n",
    "with open(os.path.join('/data/spencer/KITTI/object/ImageSets/val.txt'), 'r') as f:\n",
    "    idxs_val_only = [int(s.strip()) for s in f.readlines()]\n",
    "idxs = [idxs_train_only, idxs_val_only]\n",
    "\n",
    "for idxs_this, fol in zip(idxs, folders):\n",
    "    # Write image sets\n",
    "    fol_split = fol.split('/')\n",
    "    write_str = '\\n'.join(['%06d'%i for i in idxs_this])\n",
    "    with open('/' + os.path.join(*fol_split[:-1], 'ImageSets', fol_split[-1] + '.txt'), 'w') as f:\n",
    "        f.write(write_str)\n",
    "              \n",
    "    # Copy data\n",
    "    for ext, sub in zip(exts, subfolders):\n",
    "        print(f'Copying {os.path.join(fol, sub)}')\n",
    "        for idx in tqdm(idxs_this):\n",
    "            src = os.path.join(KDM.split_path, sub, '%06d'%idx + ext)\n",
    "            dest = os.path.join(fol, sub, '%06d'%idx + ext)\n",
    "            shutil.copy2(src, dest)"
   ]
  },
  {
   "cell_type": "code",
   "execution_count": null,
   "id": "560aa5f5",
   "metadata": {},
   "outputs": [],
   "source": []
  }
 ],
 "metadata": {
  "kernelspec": {
   "display_name": "Python 3 (ipykernel)",
   "language": "python",
   "name": "python3"
  },
  "language_info": {
   "codemirror_mode": {
    "name": "ipython",
    "version": 3
   },
   "file_extension": ".py",
   "mimetype": "text/x-python",
   "name": "python",
   "nbconvert_exporter": "python",
   "pygments_lexer": "ipython3",
   "version": "3.9.5"
  }
 },
 "nbformat": 4,
 "nbformat_minor": 5
}
