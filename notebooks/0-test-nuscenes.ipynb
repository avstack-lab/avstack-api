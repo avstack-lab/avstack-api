{
 "cells": [
  {
   "cell_type": "markdown",
   "id": "566f381b",
   "metadata": {},
   "source": [
    "# Testing nuScenes avstack API"
   ]
  },
  {
   "cell_type": "code",
   "execution_count": null,
   "id": "e16974f9",
   "metadata": {},
   "outputs": [],
   "source": [
    "import sys\n",
    "sys.path.append('..')\n",
    "import avstack\n",
    "import avapi\n",
    "\n",
    "import numpy as np\n",
    "%load_ext autoreload\n",
    "%autoreload 2\n",
    "\n",
    "data_dir = '/home/data/nuScenes/'\n",
    "NSM = avapi.nuscenes.nuScenesManager(data_dir, split='v1.0-mini', verbose=False)\n",
    "scene_map = avapi.nuscenes.splits_scenes['val']"
   ]
  },
  {
   "cell_type": "code",
   "execution_count": null,
   "id": "fe727b96",
   "metadata": {},
   "outputs": [],
   "source": [
    "scenes_val = [scene for scene in NSM.scenes if scene in scene_map]\n",
    "scenes_val"
   ]
  },
  {
   "cell_type": "markdown",
   "id": "ec0997b6",
   "metadata": {},
   "source": [
    "### Show visuals"
   ]
  },
  {
   "cell_type": "code",
   "execution_count": null,
   "id": "c5e6cb17",
   "metadata": {},
   "outputs": [],
   "source": [
    "NDM = NSM.get_scene_dataset_by_index(3)\n",
    "frame = NDM.frames[1]\n",
    "sensor = 'CAM_FRONT_RIGHT'\n",
    "img = NDM.get_image(frame, sensor=sensor)\n",
    "pc = NDM.get_lidar(frame)\n",
    "objects = NDM.get_objects(frame, sensor='LIDAR_TOP')\n",
    "avapi.visualize.show_objects_on_image(img, objects, projection='3d', inline=True)"
   ]
  },
  {
   "cell_type": "markdown",
   "id": "9a8c8725",
   "metadata": {},
   "source": [
    "## Test Perception"
   ]
  },
  {
   "cell_type": "markdown",
   "id": "2fb0487e",
   "metadata": {},
   "source": [
    "#### 2D Object"
   ]
  },
  {
   "cell_type": "code",
   "execution_count": null,
   "id": "4b668a8b",
   "metadata": {},
   "outputs": [],
   "source": [
    "M2D = avstack.modules.perception.object2dfv.MMDetObjectDetector2D(\n",
    "    model='cascade_mask_rcnn', dataset='nuimages', threshold=0.7, gpu=1)"
   ]
  },
  {
   "cell_type": "code",
   "execution_count": null,
   "id": "1e0c6f5a",
   "metadata": {},
   "outputs": [],
   "source": [
    "# NDM = NSM.get_scene_dataset_by_index(1)\n",
    "pc = NDM.get_lidar(frame)\n",
    "img = NDM.get_image(frame, sensor='CAM_FRONT_RIGHT')\n",
    "objects = NDM.get_objects(frame, sensor='LIDAR_TOP')\n",
    "res = M2D(frame, img, 'camera')\n",
    "avapi.visualize.show_image_with_boxes(img, res, inline=True, with_mask=True)"
   ]
  },
  {
   "cell_type": "markdown",
   "id": "47fc0f55",
   "metadata": {},
   "source": [
    "#### 3D Object"
   ]
  },
  {
   "cell_type": "code",
   "execution_count": null,
   "id": "6c7f5d47",
   "metadata": {},
   "outputs": [],
   "source": [
    "M3D = avstack.modules.perception.object3d.MMDetObjectDetector3D(\n",
    "    model='pgd', dataset='nuscenes', gpu=1)"
   ]
  },
  {
   "cell_type": "code",
   "execution_count": null,
   "id": "50ecbed3",
   "metadata": {},
   "outputs": [],
   "source": [
    "# NDM = NSM.get_scene_dataset_by_index(1)\n",
    "frame = 12\n",
    "pc = NDM.get_lidar(frame)\n",
    "img = NDM.get_image(frame, sensor='CAM_FRONT_RIGHT')\n",
    "objects = NDM.get_objects(frame, sensor='LIDAR_TOP')\n",
    "# res = M3D(frame, pc, 'lidar')\n",
    "res = M3D(frame, img, 'lidar')\n",
    "avapi.visualize.show_image_with_boxes(img, res, inline=True)\n",
    "# avapi.visualize.show_lidar_on_image(pc, img, inline=True)"
   ]
  },
  {
   "cell_type": "markdown",
   "id": "c29ef233",
   "metadata": {},
   "source": [
    "### Test Scene Split"
   ]
  },
  {
   "cell_type": "markdown",
   "id": "26443227",
   "metadata": {},
   "source": [
    "## Test Panoptic"
   ]
  },
  {
   "cell_type": "code",
   "execution_count": null,
   "id": "0c817a34",
   "metadata": {},
   "outputs": [],
   "source": [
    "%matplotlib inline\n",
    "import matplotlib.pyplot as plt\n",
    "fig, ax = plt.subplots(1,1)\n",
    "frame = 10\n",
    "sample_token = NDM._get_sensor_record(frame, sensor='LIDAR_TOP')['sample_token']\n",
    "NDM.nuX.explorer.render_pointcloud_in_image(sample_token, ax=ax, show_lidarseg=False,\n",
    "                                            show_panoptic=True, show_lidarseg_legend=False)"
   ]
  },
  {
   "cell_type": "code",
   "execution_count": null,
   "id": "8bfef87e",
   "metadata": {},
   "outputs": [],
   "source": [
    "frame = 2\n",
    "img = NDM.get_image(frame, sensor='CAM_FRONT')\n",
    "lid = NDM.get_lidar(frame, filter_front=True, with_panoptic=True)\n",
    "avapi.visualize.show_lidar_on_image(lid, img, inline=True, colormethod='channel-6')"
   ]
  },
  {
   "cell_type": "code",
   "execution_count": null,
   "id": "fd9f4353",
   "metadata": {},
   "outputs": [],
   "source": [
    "lid = NDM.get_lidar(frame, with_panoptic=True)"
   ]
  },
  {
   "cell_type": "code",
   "execution_count": null,
   "id": "5aaa6ddc",
   "metadata": {},
   "outputs": [],
   "source": [
    "frame = 20\n",
    "pan = NDM._load_panoptic_lidar(frame)\n",
    "print(pan.shape)\n",
    "lid = NDM.get_lidar(frame)\n",
    "print(lid.shape)"
   ]
  },
  {
   "cell_type": "code",
   "execution_count": null,
   "id": "b16a4b21",
   "metadata": {},
   "outputs": [],
   "source": [
    "lid.shape"
   ]
  },
  {
   "cell_type": "code",
   "execution_count": null,
   "id": "987700ff",
   "metadata": {},
   "outputs": [],
   "source": [
    "NDM = NSM.get_scene_dataset_by_index(3)\n"
   ]
  },
  {
   "cell_type": "code",
   "execution_count": null,
   "id": "be1e404a",
   "metadata": {},
   "outputs": [],
   "source": [
    "NDM.nuX.panoptic[1]"
   ]
  },
  {
   "cell_type": "code",
   "execution_count": null,
   "id": "af436b04",
   "metadata": {},
   "outputs": [],
   "source": []
  }
 ],
 "metadata": {
  "kernelspec": {
   "display_name": "Python 3 (ipykernel)",
   "language": "python",
   "name": "python3"
  },
  "language_info": {
   "codemirror_mode": {
    "name": "ipython",
    "version": 3
   },
   "file_extension": ".py",
   "mimetype": "text/x-python",
   "name": "python",
   "nbconvert_exporter": "python",
   "pygments_lexer": "ipython3",
   "version": "3.9.5"
  }
 },
 "nbformat": 4,
 "nbformat_minor": 5
}
