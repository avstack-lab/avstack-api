{
 "cells": [
  {
   "cell_type": "markdown",
   "id": "566f381b",
   "metadata": {},
   "source": [
    "# Testing nuScenes avstack API"
   ]
  },
  {
   "cell_type": "code",
   "execution_count": null,
   "id": "e16974f9",
   "metadata": {},
   "outputs": [
    {
     "ename": "",
     "evalue": "",
     "output_type": "error",
     "traceback": [
      "\u001b[1;31mRunning cells with '/bin/python3' requires ipykernel package.\n",
      "\u001b[1;31mRun the following command to install 'ipykernel' into the Python environment. \n",
      "\u001b[1;31mCommand: '/bin/python3 -m pip install ipykernel -U --user --force-reinstall'"
     ]
    }
   ],
   "source": [
    "import os\n",
    "import avstack\n",
    "import avapi\n",
    "import numpy as np\n",
    "import quaternion\n",
    "\n",
    "%load_ext autoreload\n",
    "%autoreload 2\n",
    "\n",
    "data_dir_n = '../data/nuScenes'\n",
    "\n",
    "NSM = avapi.nuscenes.nuScenesManager(data_dir_n)"
   ]
  },
  {
   "cell_type": "markdown",
   "id": "ec0997b6",
   "metadata": {},
   "source": [
    "## Visualize Data"
   ]
  },
  {
   "cell_type": "code",
   "execution_count": null,
   "id": "5633cdc1",
   "metadata": {},
   "outputs": [],
   "source": [
    "# select the scene to use\n",
    "scene_index = 3\n"
   ]
  },
  {
   "cell_type": "markdown",
   "id": "dc7134af",
   "metadata": {},
   "source": [
    "#### Single-Frame"
   ]
  },
  {
   "cell_type": "code",
   "execution_count": null,
   "id": "c64b9ad1",
   "metadata": {},
   "outputs": [],
   "source": [
    "frame = NDM.frames[1]\n",
    "sensor = 'CAM_FRONT_RIGHT'\n",
    "img = NDM.get_image(frame, sensor=sensor)\n",
    "pc = NDM.get_lidar(frame)\n",
    "objects = NDM.get_objects(frame, sensor='LIDAR_TOP')\n",
    "avapi.visualize.show_objects_on_image(img, objects, projection='3d', inline=True)"
   ]
  },
  {
   "cell_type": "markdown",
   "id": "3ea09ea3",
   "metadata": {},
   "source": [
    "#### Video"
   ]
  },
  {
   "cell_type": "code",
   "execution_count": null,
   "id": "f843c1e5",
   "metadata": {},
   "outputs": [],
   "source": []
  },
  {
   "cell_type": "markdown",
   "id": "9a8c8725",
   "metadata": {},
   "source": [
    "## Test Perception"
   ]
  },
  {
   "cell_type": "markdown",
   "id": "2fb0487e",
   "metadata": {},
   "source": [
    "#### 2D Object"
   ]
  },
  {
   "cell_type": "code",
   "execution_count": null,
   "id": "1e0c6f5a",
   "metadata": {},
   "outputs": [],
   "source": [
    "# -- set up model\n",
    "M2D = avstack.modules.perception.object2dfv.MMDetObjectDetector2D(\n",
    "    model='cascade_mask_rcnn', dataset='nuimages', threshold=0.7, gpu=0)\n",
    "\n",
    "# -- detect and show\n",
    "pc = NDM.get_lidar(frame)\n",
    "img = NDM.get_image(frame, sensor='CAM_FRONT_RIGHT')\n",
    "objects = NDM.get_objects(frame, sensor='LIDAR_TOP')\n",
    "res = M2D(frame, img, 'camera')\n",
    "avapi.visualize.show_image_with_boxes(img, res, inline=True, with_mask=True)"
   ]
  },
  {
   "cell_type": "markdown",
   "id": "47fc0f55",
   "metadata": {},
   "source": [
    "#### 3D Object"
   ]
  },
  {
   "cell_type": "code",
   "execution_count": null,
   "id": "50ecbed3",
   "metadata": {},
   "outputs": [],
   "source": [
    "# -- set up model\n",
    "M3D_img = avstack.modules.perception.object3d.MMDetObjectDetector3D(\n",
    "    model='pgd', dataset='nuscenes', gpu=0)\n",
    "\n",
    "# -- detect and show\n",
    "frame = 12\n",
    "pc = NDM.get_lidar(frame)\n",
    "img = NDM.get_image(frame, sensor='CAM_FRONT_RIGHT')\n",
    "objects = NDM.get_objects(frame, sensor='LIDAR_TOP')\n",
    "res = M3D_img(frame, img, 'monocular')\n",
    "avapi.visualize.show_image_with_boxes(img, res, inline=True)"
   ]
  }
 ],
 "metadata": {
  "kernelspec": {
   "display_name": "Python 3 (ipykernel)",
   "language": "python",
   "name": "python3"
  },
  "language_info": {
   "codemirror_mode": {
    "name": "ipython",
    "version": 3
   },
   "file_extension": ".py",
   "mimetype": "text/x-python",
   "name": "python",
   "nbconvert_exporter": "python",
   "pygments_lexer": "ipython3",
   "version": "3.8.16"
  },
  "vscode": {
   "interpreter": {
    "hash": "916dbcbb3f70747c44a77c7bcd40155683ae19c65e1c03b4aa3499c5328201f1"
   }
  }
 },
 "nbformat": 4,
 "nbformat_minor": 5
}
