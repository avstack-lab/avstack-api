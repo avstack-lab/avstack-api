{
 "cells": [
  {
   "cell_type": "code",
   "execution_count": null,
   "id": "31dc7191",
   "metadata": {},
   "outputs": [],
   "source": [
    "import numpy as np\n",
    "from avstack.modules import safety, localization\n",
    "from avstack.geometry import StandardCoordinates, bbox"
   ]
  },
  {
   "cell_type": "code",
   "execution_count": null,
   "id": "3ddf3a1f",
   "metadata": {},
   "outputs": [],
   "source": [
    "def get_ego():\n",
    "    pos = np.random.rand(3)\n",
    "    box = bbox.Box3D([2,2,4,[0,0,0],0], StandardCoordinates)  # box in local coordinates\n",
    "    vel = 5*np.array([1,0,0])\n",
    "    acc = np.random.rand(3)\n",
    "    rot = np.eye(3)\n",
    "    ang = np.zeros(3)\n",
    "    ego_init = localization.VehicleState('car')\n",
    "    ego_init.set(0, pos, box, vel, acc, rot, ang, coordinates=StandardCoordinates)\n",
    "    return ego_init\n",
    "\n",
    "\n",
    "def get_object(ego, dist):\n",
    "    pos_obj = ego.position + dist*np.array([1,0,0])\n",
    "    box_obj = bbox.Box3D([2,2,4,[0,0,0],0], StandardCoordinates)  # box in local coordinates\n",
    "    vel_obj = 4*np.array([1,-2,0])\n",
    "    acc_obj = np.random.rand(3)\n",
    "    rot_obj = np.eye(3)\n",
    "    ang_obj = np.zeros(3)\n",
    "    obj = localization.VehicleState('car')\n",
    "    obj.set(0, pos_obj, box_obj, vel_obj, acc_obj, rot_obj, ang_obj, coordinates=StandardCoordinates)\n",
    "    return obj"
   ]
  },
  {
   "cell_type": "code",
   "execution_count": null,
   "id": "a4514978",
   "metadata": {},
   "outputs": [],
   "source": [
    "def test_rss_interface(dist):\n",
    "    ego = get_ego()\n",
    "    obj = get_object(ego, dist)\n",
    "    rss_eval = safety.RssEvaluator()\n",
    "    safety_out = rss_eval(ego, [obj])\n",
    "    return safety_out"
   ]
  },
  {
   "cell_type": "code",
   "execution_count": null,
   "id": "b70a4248",
   "metadata": {},
   "outputs": [],
   "source": [
    "import ad_rss as ad"
   ]
  },
  {
   "cell_type": "code",
   "execution_count": null,
   "id": "1d58fa5f",
   "metadata": {},
   "outputs": [],
   "source": [
    "results = []\n",
    "for d in range(40, 0, -5):\n",
    "    results.append((d, test_rss_interface(d)))"
   ]
  },
  {
   "cell_type": "code",
   "execution_count": null,
   "id": "2a90fef4",
   "metadata": {},
   "outputs": [],
   "source": [
    "for d, res in results:\n",
    "    print(f'{d} -- safe: {res[\"safe\"]}')"
   ]
  },
  {
   "cell_type": "code",
   "execution_count": null,
   "id": "d156b57e",
   "metadata": {},
   "outputs": [],
   "source": []
  }
 ],
 "metadata": {
  "kernelspec": {
   "display_name": "Python 3 (ipykernel)",
   "language": "python",
   "name": "python3"
  },
  "language_info": {
   "codemirror_mode": {
    "name": "ipython",
    "version": 3
   },
   "file_extension": ".py",
   "mimetype": "text/x-python",
   "name": "python",
   "nbconvert_exporter": "python",
   "pygments_lexer": "ipython3",
   "version": "3.9.5"
  }
 },
 "nbformat": 4,
 "nbformat_minor": 5
}
