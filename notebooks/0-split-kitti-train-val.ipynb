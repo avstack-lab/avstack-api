{
 "cells": [
  {
   "cell_type": "markdown",
   "id": "d375e38c",
   "metadata": {},
   "source": [
    "# Explicitly Split KITTI into Train and Val\n",
    "\n",
    "The KITTI dataset comes with a `trainval` folder of data. This small example notebook shows you how to use the `KittiObjectDataset` object to split the train and val splits into their own respective folders. It is not necessary to run this example to do anything of interest with KITTI, but it can help understand how the data are organized."
   ]
  },
  {
   "cell_type": "code",
   "execution_count": 1,
   "id": "a78789e3",
   "metadata": {},
   "outputs": [
    {
     "name": "stdout",
     "output_type": "stream",
     "text": [
      "Cannot import rss library\n"
     ]
    }
   ],
   "source": [
    "import avstack\n",
    "import avapi\n",
    "import os\n",
    "import shutil\n",
    "from tqdm import tqdm"
   ]
  },
  {
   "cell_type": "markdown",
   "id": "78972ca7",
   "metadata": {},
   "source": [
    "## Split data"
   ]
  },
  {
   "cell_type": "code",
   "execution_count": 23,
   "id": "2a91aa2c",
   "metadata": {},
   "outputs": [
    {
     "name": "stdout",
     "output_type": "stream",
     "text": [
      "Making symolic links with /data/spencer/KITTI/object/train_only/velodyne\n"
     ]
    },
    {
     "name": "stderr",
     "output_type": "stream",
     "text": [
      "100%|█████████████████████████████████████████████████| 3712/3712 [00:00<00:00, 173915.42it/s]\n"
     ]
    },
    {
     "name": "stdout",
     "output_type": "stream",
     "text": [
      "Making symolic links with /data/spencer/KITTI/object/train_only/image_2\n"
     ]
    },
    {
     "name": "stderr",
     "output_type": "stream",
     "text": [
      "100%|█████████████████████████████████████████████████| 3712/3712 [00:00<00:00, 174531.49it/s]\n"
     ]
    },
    {
     "name": "stdout",
     "output_type": "stream",
     "text": [
      "Making symolic links with /data/spencer/KITTI/object/train_only/image_3\n"
     ]
    },
    {
     "name": "stderr",
     "output_type": "stream",
     "text": [
      "100%|█████████████████████████████████████████████████| 3712/3712 [00:00<00:00, 175473.72it/s]\n"
     ]
    },
    {
     "name": "stdout",
     "output_type": "stream",
     "text": [
      "Making symolic links with /data/spencer/KITTI/object/train_only/planes\n"
     ]
    },
    {
     "name": "stderr",
     "output_type": "stream",
     "text": [
      "100%|█████████████████████████████████████████████████| 3712/3712 [00:00<00:00, 174850.99it/s]\n"
     ]
    },
    {
     "name": "stdout",
     "output_type": "stream",
     "text": [
      "Making symolic links with /data/spencer/KITTI/object/train_only/label_2\n"
     ]
    },
    {
     "name": "stderr",
     "output_type": "stream",
     "text": [
      "100%|█████████████████████████████████████████████████| 3712/3712 [00:00<00:00, 175628.11it/s]\n"
     ]
    },
    {
     "name": "stdout",
     "output_type": "stream",
     "text": [
      "Making symolic links with /data/spencer/KITTI/object/train_only/calib\n"
     ]
    },
    {
     "name": "stderr",
     "output_type": "stream",
     "text": [
      "100%|█████████████████████████████████████████████████| 3712/3712 [00:00<00:00, 174945.29it/s]\n"
     ]
    },
    {
     "name": "stdout",
     "output_type": "stream",
     "text": [
      "Making symolic links with /data/spencer/KITTI/object/val_only/velodyne\n"
     ]
    },
    {
     "name": "stderr",
     "output_type": "stream",
     "text": [
      "100%|█████████████████████████████████████████████████| 3769/3769 [00:00<00:00, 175320.87it/s]\n"
     ]
    },
    {
     "name": "stdout",
     "output_type": "stream",
     "text": [
      "Making symolic links with /data/spencer/KITTI/object/val_only/image_2\n"
     ]
    },
    {
     "name": "stderr",
     "output_type": "stream",
     "text": [
      "100%|█████████████████████████████████████████████████| 3769/3769 [00:00<00:00, 174751.08it/s]\n"
     ]
    },
    {
     "name": "stdout",
     "output_type": "stream",
     "text": [
      "Making symolic links with /data/spencer/KITTI/object/val_only/image_3\n"
     ]
    },
    {
     "name": "stderr",
     "output_type": "stream",
     "text": [
      "100%|█████████████████████████████████████████████████| 3769/3769 [00:00<00:00, 174569.68it/s]\n"
     ]
    },
    {
     "name": "stdout",
     "output_type": "stream",
     "text": [
      "Making symolic links with /data/spencer/KITTI/object/val_only/planes\n"
     ]
    },
    {
     "name": "stderr",
     "output_type": "stream",
     "text": [
      "100%|█████████████████████████████████████████████████| 3769/3769 [00:00<00:00, 172262.22it/s]\n"
     ]
    },
    {
     "name": "stdout",
     "output_type": "stream",
     "text": [
      "Making symolic links with /data/spencer/KITTI/object/val_only/label_2\n"
     ]
    },
    {
     "name": "stderr",
     "output_type": "stream",
     "text": [
      "100%|█████████████████████████████████████████████████| 3769/3769 [00:00<00:00, 172282.87it/s]\n"
     ]
    },
    {
     "name": "stdout",
     "output_type": "stream",
     "text": [
      "Making symolic links with /data/spencer/KITTI/object/val_only/calib\n"
     ]
    },
    {
     "name": "stderr",
     "output_type": "stream",
     "text": [
      "100%|█████████████████████████████████████████████████| 3769/3769 [00:00<00:00, 175953.12it/s]\n"
     ]
    }
   ],
   "source": [
    "KITTI_obj_base = os.path.realpath(\"../data/KITTI/object\")  # use your own path or add a symbolic link\n",
    "KDM = avapi.kitti.KittiObjectDataset(KITTI_obj_base, 'training')  # the original \"training\" has both \"train\" and \"val\"\n",
    "\n",
    "folders = [\"train_only\", \"val_only\"]  # these directories will be created\n",
    "imset_names = [\"train.txt\", \"val.txt\"]  # these were downloaded with the ImageSet download\n",
    "subfolders = ['velodyne', 'image_2', 'image_3', 'planes', 'label_2', 'calib']\n",
    "exts       = ['.bin',     '.png',    '.png',    '.txt',   '.txt',    '.txt']\n",
    "\n",
    "copy_data = False  # if true, actually copies. If false, makes a symbolic link for each file\n",
    "\n",
    "for imset, fol in zip(imset_names, folders):\n",
    "    os.makedirs(os.path.join(KITTI_obj_base, fol), exist_ok=True)\n",
    "    for sub in subfolders:\n",
    "        os.makedirs(os.path.join(fol, sub), exist_ok=True)\n",
    "\n",
    "    # Read imagesets from downloaded files to know which files\n",
    "    with open(os.path.join(KITTI_obj_base, 'ImageSets', imset), 'r') as f:\n",
    "        idxs_this_split = [int(s.strip()) for s in f.readlines()]\n",
    "\n",
    "    # Write image sets to the new name\n",
    "    fol_split = fol.split('/')\n",
    "    write_str = '\\n'.join(['%06d'%i for i in idxs_this_split])\n",
    "    with open(os.path.join(KITTI_obj_base, *fol_split[:-1], 'ImageSets', fol_split[-1] + '.txt'), 'w') as f:\n",
    "        f.write(write_str)\n",
    "              \n",
    "    # Copy or symlink the data\n",
    "    for sub, ext in zip(subfolders, exts):\n",
    "        subdir = os.path.join(KITTI_obj_base, fol, sub)\n",
    "        print(f'{\"Copying\" if copy_data else \"Making symolic links with\"} {subdir}')\n",
    "        os.makedirs(subdir, exist_ok=True)\n",
    "        for idx in tqdm(idxs_this_split):\n",
    "            fname = '%06d'%idx + ext\n",
    "            src = os.path.join(KDM.split_path, sub, fname)\n",
    "            dest = os.path.join(subdir, fname)\n",
    "            if copy_data:\n",
    "                shutil.copy2(src, dest)\n",
    "            else:\n",
    "                os.symlink(src, dest)"
   ]
  },
  {
   "cell_type": "markdown",
   "id": "c9f27754",
   "metadata": {},
   "source": [
    "## Test Splits"
   ]
  },
  {
   "cell_type": "code",
   "execution_count": 25,
   "id": "783e0252",
   "metadata": {},
   "outputs": [
    {
     "name": "stdout",
     "output_type": "stream",
     "text": [
      "Train has 3712 frames\n",
      "Val has 3769 frames\n"
     ]
    }
   ],
   "source": [
    "KDM_train = avapi.kitti.KittiObjectDataset(KITTI_obj_base, 'train_only')\n",
    "print(f'Train has {len(KDM_train.frames)} frames')\n",
    "KDM_val = avapi.kitti.KittiObjectDataset(KITTI_obj_base, 'val_only')\n",
    "print(f'Val has {len(KDM_val.frames)} frames')"
   ]
  }
 ],
 "metadata": {
  "kernelspec": {
   "display_name": "Python 3 (ipykernel)",
   "language": "python",
   "name": "python3"
  },
  "language_info": {
   "codemirror_mode": {
    "name": "ipython",
    "version": 3
   },
   "file_extension": ".py",
   "mimetype": "text/x-python",
   "name": "python",
   "nbconvert_exporter": "python",
   "pygments_lexer": "ipython3",
   "version": "3.8.16"
  },
  "vscode": {
   "interpreter": {
    "hash": "916dbcbb3f70747c44a77c7bcd40155683ae19c65e1c03b4aa3499c5328201f1"
   }
  }
 },
 "nbformat": 4,
 "nbformat_minor": 5
}
