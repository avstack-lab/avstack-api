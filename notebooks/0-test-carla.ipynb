{
 "cells": [
  {
   "cell_type": "code",
   "execution_count": null,
   "id": "402a26e9",
   "metadata": {},
   "outputs": [],
   "source": [
    "import sys, os\n",
    "os.environ['CUDA_LAUNCH_BLOCKING'] = \"1\" \n",
    "sys.path.append('..')\n",
    "import avstack\n",
    "import avapi\n",
    "from copy import copy, deepcopy\n",
    "\n",
    "\n",
    "import numpy as np\n",
    "%load_ext autoreload\n",
    "%autoreload 2\n",
    "\n",
    "%matplotlib inline\n",
    "\n",
    "data_dir = '/data/spencer/CARLA/carla-object-v1/'\n",
    "CSM = avapi.carla.CarlaScenesManager(data_dir, verbose=False)"
   ]
  },
  {
   "cell_type": "code",
   "execution_count": null,
   "id": "d005addc",
   "metadata": {},
   "outputs": [],
   "source": [
    "CSD = CSM.get_scene_dataset_by_name(CSM.scenes[-1])\n",
    "print(len(CSD.sensor_file_post[list(CSD.sensor_file_post.keys())[0]]['frame']), 'camera frames')\n",
    "\n",
    "frame_ordering_cam = list(CSD.sensor_file_post['CAM_FRONT']['frame'].keys())\n",
    "frame_ordering_ego = list(CSD.ego_files['frame'].keys())\n",
    "frame_ordering = [x for x in frame_ordering_cam if x in frame_ordering_ego]\n",
    "\n",
    "# frame_ordering_inf = list(CSD.sensor_file_post['CAM_INFRASTRUCTURE_001']['frame'].keys())"
   ]
  },
  {
   "cell_type": "code",
   "execution_count": null,
   "id": "8a6215b2",
   "metadata": {},
   "outputs": [],
   "source": [
    "img.shape"
   ]
  },
  {
   "cell_type": "code",
   "execution_count": null,
   "id": "33dc49e3",
   "metadata": {},
   "outputs": [],
   "source": [
    "img.calibration.P"
   ]
  },
  {
   "cell_type": "code",
   "execution_count": null,
   "id": "18a85197",
   "metadata": {},
   "outputs": [],
   "source": [
    "# Get scene dataset\n",
    "frame = frame_ordering[30]\n",
    "all_sensors = ['CAM_FRONT']\n",
    "for cam in all_sensors:\n",
    "    if 'DEPTH' in cam:\n",
    "        img = CSD.get_depthimage(frame, cam)\n",
    "    else:\n",
    "        img = CSD.get_image(frame, cam)\n",
    "    calib = CSD.get_calibration(frame, cam)\n",
    "    ego = CSD.get_ego(frame)\n",
    "    ego.attitude = ego.attitude.T\n",
    "    ego.box.rot = ego.box.rot.T\n",
    "    pc = CSD.get_lidar(frame, 'LIDAR_TOP')\n",
    "    \n",
    "    # Get \"local\" objects and validate same|\n",
    "    objects_local = CSD.get_objects(frame, cam)\n",
    "    \n",
    "    # visualize the results\n",
    "    avapi.visualize.snapshot.show_image_with_boxes(img, objects_local, inline=True)\n",
    "#     avapi.visualize.show_lidar_on_image(pc, img)"
   ]
  },
  {
   "cell_type": "code",
   "execution_count": null,
   "id": "dc3aa2fc",
   "metadata": {},
   "outputs": [],
   "source": [
    "%matplotlib inline\n",
    "import matplotlib.pyplot as plt\n",
    "fig = plt.figure(figsize=(10,10))\n",
    "\n",
    "pc = CSD.get_lidar(frame, 'LIDAR_TOP')\n",
    "\n",
    "sc = 50\n",
    "plt.scatter(pc.data[:,1], pc.data[:,0], s=4)\n",
    "plt.xlim([-sc, sc])\n",
    "plt.ylim([-sc, sc])\n",
    "# for det in dets:\n",
    "#     plt.scatter(det.box3d.t[1], det.box3d.t[0], marker='x', s=30)\n",
    "plt.gca().invert_xaxis()\n",
    "plt.gca().set_aspect('equal', adjustable='box')"
   ]
  },
  {
   "cell_type": "code",
   "execution_count": null,
   "id": "136101e9",
   "metadata": {},
   "outputs": [],
   "source": [
    "%matplotlib inline\n",
    "idx = 1\n",
    "sens = f'CAM_INFRASTRUCTURE_00{idx}'\n",
    "idx_frame = 300\n",
    "frame_ordering_cam = list(CSD.sensor_file_post[sens]['frame'].keys())\n",
    "frame_cam = frame_ordering_cam[idx_frame]\n",
    "ego = CSD.get_ego(frame_cam)\n",
    "img = CSD.get_image(frame_cam, sens)\n",
    "objs = CSD.get_objects(frame_cam, sens)\n",
    "avapi.visualize.show_image_with_boxes(img, objs, inline=True)\n",
    "\n",
    "sens = f'LIDAR_INFRASTRUCTURE_00{idx}'\n",
    "frame_ordering_lid = list(CSD.sensor_file_post[sens]['frame'].keys())\n",
    "frame_lidar = min(frame_ordering_lid, key=lambda x:abs(x-frame_cam))\n",
    "if abs(frame_cam-frame_lidar) < 2:\n",
    "    pc = CSD.get_lidar(frame_lidar, sens)\n",
    "#     pc.transform_tobjs.o_ground()  # even this works!\n",
    "#     objs = CSD.get_objects(frame_cam, sens)\n",
    "#     for obj in objs:\n",
    "#         obj.change_origin(pc.origin)\n",
    "    avapi.visualize.show_lidar_on_image(pc, img, boxes=objs)\n",
    "else:\n",
    "    print('Cannot find close frame...eventually add change origin to unwrap to global')"
   ]
  },
  {
   "cell_type": "code",
   "execution_count": null,
   "id": "97e7a9c5",
   "metadata": {},
   "outputs": [],
   "source": [
    "# M = avstack.modules.perception.object2dfv.MMDetObjectDetector2D(\n",
    "#     model='cascade_mask_rcnn', threshold=0.2, dataset='nuimages', gpu=0)\n",
    "\n",
    "# M2D_I = avstack.modules.perception.object2dfv.MMDetObjectDetector2D(\n",
    "#     model='fasterrcnn', threshold=0.5, dataset='carla-infrastructure', gpu=1)\n",
    "\n",
    "# M3D = avstack.modules.perception.object3d.MMDetObjectDetector3D(\n",
    "#     model='pointpillars', threshold=0.1, dataset='carla', epoch='latest', gpu=0)\n",
    "\n",
    "M3D_I = avstack.modules.perception.object3d.MMDetObjectDetector3D(\n",
    "    model='3dssd', threshold=0.1, dataset='carla-infrastructure', epoch='latest', gpu=1)"
   ]
  },
  {
   "cell_type": "code",
   "execution_count": null,
   "id": "6ef07d00",
   "metadata": {},
   "outputs": [],
   "source": [
    "pc_postproj = deepcopy(pc)\n",
    "pc_postproj.transform_to_ground()\n",
    "dets_3dI = M3D_I(pc_postproj, 'dets3d')\n",
    "avapi.visualize.show_lidar_on_image(pc_postproj, img, boxes=dets_3dI, inline=True)"
   ]
  },
  {
   "cell_type": "code",
   "execution_count": null,
   "id": "e94bf3aa",
   "metadata": {},
   "outputs": [],
   "source": [
    "dets_2dI = M2D_I(img, 'dets2d')\n",
    "avapi.visualize.show_image_with_boxes(img, dets_2dI, inline=True)"
   ]
  },
  {
   "cell_type": "code",
   "execution_count": null,
   "id": "d007663a",
   "metadata": {},
   "outputs": [],
   "source": []
  },
  {
   "cell_type": "code",
   "execution_count": null,
   "id": "59d62167",
   "metadata": {},
   "outputs": [],
   "source": []
  },
  {
   "cell_type": "code",
   "execution_count": null,
   "id": "747e275b",
   "metadata": {},
   "outputs": [],
   "source": [
    "M = avstack.modules.perception.object2dfv.MMDetObjectDetector2D(\n",
    "    model='cascade_mask_rcnn', threshold=0.5, dataset='nuimages', gpu=1)"
   ]
  },
  {
   "cell_type": "code",
   "execution_count": null,
   "id": "ec7f85f7",
   "metadata": {},
   "outputs": [],
   "source": [
    "dets = M(img, 'dets2d')\n",
    "avapi.visualize.show_image_with_boxes(img, dets, inline=True)"
   ]
  },
  {
   "cell_type": "code",
   "execution_count": null,
   "id": "a7c4a3cb",
   "metadata": {},
   "outputs": [],
   "source": [
    "M3D = avstack.modules.perception.object3d.MMDetObjectDetector3D(\n",
    "    model='pointpillars', threshold=0.1, dataset='carla', epoch='latest', gpu=1)"
   ]
  },
  {
   "cell_type": "code",
   "execution_count": null,
   "id": "ca619446",
   "metadata": {},
   "outputs": [],
   "source": [
    "# frame = 800\n",
    "pc = CSD.get_lidar(frame, 'LIDAR_TOP')\n",
    "img_viz = CSD.get_image(frame, 'CAM_FRONT')\n",
    "dets = M3D(pc, 'dets3d')\n",
    "avapi.visualize.show_image_with_boxes(img_viz, dets, inline=True)"
   ]
  },
  {
   "cell_type": "code",
   "execution_count": null,
   "id": "c1ae98d5",
   "metadata": {},
   "outputs": [],
   "source": [
    "pointpillars"
   ]
  },
  {
   "cell_type": "code",
   "execution_count": null,
   "id": "e6b83892",
   "metadata": {},
   "outputs": [],
   "source": [
    "mmdet3D"
   ]
  },
  {
   "cell_type": "code",
   "execution_count": null,
   "id": "6ab5548d",
   "metadata": {},
   "outputs": [],
   "source": [
    "dets"
   ]
  },
  {
   "cell_type": "code",
   "execution_count": null,
   "id": "7d847c63",
   "metadata": {},
   "outputs": [],
   "source": [
    "[d.score for d in dets]"
   ]
  },
  {
   "cell_type": "markdown",
   "id": "abb63a20",
   "metadata": {},
   "source": [
    "### Point Cloud Visualization"
   ]
  },
  {
   "cell_type": "code",
   "execution_count": null,
   "id": "4b444b2d",
   "metadata": {},
   "outputs": [],
   "source": [
    "dets[0]"
   ]
  },
  {
   "cell_type": "code",
   "execution_count": null,
   "id": "967ffa91",
   "metadata": {},
   "outputs": [],
   "source": [
    "import matplotlib.pyplot as plt\n",
    "fig = plt.figure(figsize=(10,10))\n",
    "\n",
    "sc = 50\n",
    "plt.scatter(pc.data[:,1], pc.data[:,0], s=4)\n",
    "plt.xlim([-sc, sc])\n",
    "plt.ylim([-sc, sc])\n",
    "for det in dets:\n",
    "    plt.scatter(det.box3d.t[1], det.box3d.t[0], marker='x', s=30)\n",
    "# plt.gca().invert_xaxis()\n",
    "plt.gca().set_aspect('equal', adjustable='box')"
   ]
  },
  {
   "cell_type": "markdown",
   "id": "28adb9f4",
   "metadata": {},
   "source": [
    "## Test Perception"
   ]
  },
  {
   "cell_type": "markdown",
   "id": "f7bf27c9",
   "metadata": {},
   "source": [
    "#### 2D Perception"
   ]
  },
  {
   "cell_type": "code",
   "execution_count": null,
   "id": "51d43e73",
   "metadata": {},
   "outputs": [],
   "source": [
    "cam = 'CAM_FRONT'\n",
    "imgs_pre = [CSD.get_image(frame, cam) for frame in CSD.get_frames(cam)[:50]]\n",
    "\n",
    "M = avstack.modules.perception.object2dfv.MMDetObjectDetector2D(model='htc', threshold=0.7, dataset='nuimages')\n",
    "%timeit -n 10 M(imgs_pre[np.random.randint(0, len(imgs_pre)-1)], '2d-dets') \n",
    "\n",
    "M = avstack.modules.perception.object2dfv.MMDetObjectDetector2D(model='cascade_mask_rcnn', threshold=0.7, dataset='nuimages')\n",
    "%timeit -n 10 M(imgs_pre[np.random.randint(0, len(imgs_pre)-1)], '2d-dets') \n",
    "\n",
    "M = avstack.modules.perception.object2dfv.MMDetObjectDetector2D(model='fasterrcnn', threshold=0.7, dataset='nuscenes')\n",
    "%timeit -n 10 M(imgs_pre[np.random.randint(0, len(imgs_pre)-1)], '2d-dets') "
   ]
  },
  {
   "cell_type": "markdown",
   "id": "75f81a54",
   "metadata": {},
   "source": [
    "#### 3D Perception"
   ]
  },
  {
   "cell_type": "code",
   "execution_count": null,
   "id": "85bb2740",
   "metadata": {},
   "outputs": [],
   "source": [
    "M3D = avstack.modules.perception.object3d.MMDetObjectDetector3D(\n",
    "    model='pointpillars', dataset='nuscenes', threshold=0.3, gpu=1)"
   ]
  },
  {
   "cell_type": "code",
   "execution_count": null,
   "id": "3f6b76f8",
   "metadata": {},
   "outputs": [],
   "source": [
    "# NDM = NSM.get_scene_dataset_by_index(1)\n",
    "frame = 12\n",
    "pc = CSD.get_lidar(frame)\n",
    "pc2 = deepcopy(pc)\n",
    "pc2.data = np.concatenate((pc.data, np.ones((len(pc.data),2))), axis=1)\n",
    "R_90 = avstack.transformations.rotz(np.pi/2)\n",
    "pc2.calibration.origin = pc2.calibration.origin.rotate(R_90)\n",
    "pc2.data[:,:3] = pc2.data[:,:3] @ R_90\n",
    "res = M3D(pc2, 'lidar')"
   ]
  },
  {
   "cell_type": "code",
   "execution_count": null,
   "id": "31785258",
   "metadata": {},
   "outputs": [],
   "source": [
    "img = CSD.get_image(frame, sensor='CAM_BACK')\n",
    "avapi.visualize.show_image_with_boxes(img, res, inline=True)"
   ]
  },
  {
   "cell_type": "code",
   "execution_count": null,
   "id": "25b28f64",
   "metadata": {},
   "outputs": [],
   "source": [
    "import matplotlib.pyplot as plt\n",
    "fig = plt.figure(figsize=(10,10))\n",
    "\n",
    "sc = 20\n",
    "plt.scatter(pc.data[:,1], pc.data[:,0], s=4)\n",
    "plt.xlim([-sc, sc])\n",
    "plt.ylim([-sc, sc])\n",
    "plt.gca().invert_xaxis()\n",
    "plt.gca().set_aspect('equal', adjustable='box')"
   ]
  },
  {
   "cell_type": "code",
   "execution_count": null,
   "id": "18b7bf8e",
   "metadata": {},
   "outputs": [],
   "source": [
    "import matplotlib.pyplot as plt\n",
    "fig = plt.figure(figsize=(10,10))\n",
    "\n",
    "sc = 20\n",
    "plt.scatter(pc2.data[:,1], pc2.data[:,0], s=4)\n",
    "plt.xlim([-sc, sc])\n",
    "plt.ylim([-sc, sc])\n",
    "plt.gca().invert_xaxis()\n",
    "plt.gca().set_aspect('equal', adjustable='box')"
   ]
  },
  {
   "cell_type": "code",
   "execution_count": null,
   "id": "eb5b83bb",
   "metadata": {},
   "outputs": [],
   "source": []
  }
 ],
 "metadata": {
  "kernelspec": {
   "display_name": "Python 3 (ipykernel)",
   "language": "python",
   "name": "python3"
  },
  "language_info": {
   "codemirror_mode": {
    "name": "ipython",
    "version": 3
   },
   "file_extension": ".py",
   "mimetype": "text/x-python",
   "name": "python",
   "nbconvert_exporter": "python",
   "pygments_lexer": "ipython3",
   "version": "3.8.16"
  }
 },
 "nbformat": 4,
 "nbformat_minor": 5
}
