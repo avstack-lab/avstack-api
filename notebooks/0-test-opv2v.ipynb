{
 "cells": [
  {
   "cell_type": "code",
   "execution_count": null,
   "id": "f48df84f",
   "metadata": {},
   "outputs": [],
   "source": [
    "import os\n",
    "import avstack\n",
    "import avapi\n",
    "import numpy as np\n",
    "import quaternion\n",
    "\n",
    "%load_ext autoreload\n",
    "%autoreload 2\n",
    "\n",
    "opv2v_path = \"/data/spencer/OPV2V\""
   ]
  },
  {
   "cell_type": "code",
   "execution_count": null,
   "id": "54cd136a",
   "metadata": {},
   "outputs": [],
   "source": [
    "OSM = avapi.opv2v.Opv2vScenesManager(opv2v_path, split=\"train\")"
   ]
  },
  {
   "cell_type": "code",
   "execution_count": null,
   "id": "bac271fa",
   "metadata": {},
   "outputs": [],
   "source": [
    "ODM = OSM.get_scene_datset_by_index(0, 0)"
   ]
  },
  {
   "cell_type": "code",
   "execution_count": null,
   "id": "ed37f83f",
   "metadata": {},
   "outputs": [],
   "source": [
    "ODM.get_calibration(77, 'lidar')"
   ]
  },
  {
   "cell_type": "code",
   "execution_count": null,
   "id": "0778c6b5",
   "metadata": {},
   "outputs": [],
   "source": [
    "img = ODM.get_image(111, 'camera0')"
   ]
  },
  {
   "cell_type": "code",
   "execution_count": null,
   "id": "6e4d2a82",
   "metadata": {},
   "outputs": [],
   "source": [
    "pc = ODM.get_lidar(111, 'lidar')"
   ]
  }
 ],
 "metadata": {
  "kernelspec": {
   "display_name": "Python 3 (ipykernel)",
   "language": "python",
   "name": "python3"
  },
  "language_info": {
   "codemirror_mode": {
    "name": "ipython",
    "version": 3
   },
   "file_extension": ".py",
   "mimetype": "text/x-python",
   "name": "python",
   "nbconvert_exporter": "python",
   "pygments_lexer": "ipython3",
   "version": "3.8.16"
  }
 },
 "nbformat": 4,
 "nbformat_minor": 5
}
