{
 "cells": [
  {
   "cell_type": "code",
   "execution_count": null,
   "id": "f48df84f",
   "metadata": {},
   "outputs": [],
   "source": [
    "import os\n",
    "import avstack\n",
    "import avapi\n",
    "import numpy as np\n",
    "import quaternion\n",
    "\n",
    "%load_ext autoreload\n",
    "%autoreload 2\n",
    "\n",
    "opv2v_path = \"/data/spencer/OPV2V\""
   ]
  },
  {
   "cell_type": "code",
   "execution_count": null,
   "id": "54cd136a",
   "metadata": {},
   "outputs": [],
   "source": [
    "OSM = avapi.opv2v.Opv2vScenesManager(opv2v_path, split=\"train\")"
   ]
  },
  {
   "cell_type": "code",
   "execution_count": null,
   "id": "bac271fa",
   "metadata": {},
   "outputs": [],
   "source": [
    "ODM = OSM.get_scene_datset_by_index(0, 0)"
   ]
  },
  {
   "cell_type": "code",
   "execution_count": null,
   "id": "ed37f83f",
   "metadata": {},
   "outputs": [],
   "source": [
    "ODM.get_calibration(77, 'lidar')"
   ]
  },
  {
   "cell_type": "code",
   "execution_count": null,
   "id": "0778c6b5",
   "metadata": {},
   "outputs": [],
   "source": [
    "img = ODM.get_image(111, 'camera0')"
   ]
  },
  {
   "cell_type": "code",
   "execution_count": null,
   "id": "6e4d2a82",
   "metadata": {},
   "outputs": [],
   "source": [
    "pc = ODM.get_lidar(111, 'lidar')"
   ]
  },
  {
   "cell_type": "code",
   "execution_count": null,
   "id": "b9d08682",
   "metadata": {},
   "outputs": [],
   "source": [
    "yam = ODM._load_yaml(111)"
   ]
  },
  {
   "cell_type": "code",
   "execution_count": null,
   "id": "a045b676",
   "metadata": {},
   "outputs": [],
   "source": [
    "objects = ODM.get_objects(111, 'lidar')"
   ]
  },
  {
   "cell_type": "code",
   "execution_count": null,
   "id": "c6588a95",
   "metadata": {},
   "outputs": [],
   "source": [
    "objects"
   ]
  },
  {
   "cell_type": "code",
   "execution_count": null,
   "id": "49b50e05",
   "metadata": {},
   "outputs": [],
   "source": [
    "yam['vehicles']"
   ]
  },
  {
   "cell_type": "code",
   "execution_count": null,
   "id": "e2605570",
   "metadata": {},
   "outputs": [],
   "source": [
    "objects"
   ]
  },
  {
   "cell_type": "code",
   "execution_count": null,
   "id": "0e470887",
   "metadata": {},
   "outputs": [],
   "source": [
    "objects[0].box"
   ]
  },
  {
   "cell_type": "code",
   "execution_count": null,
   "id": "1a061f6f",
   "metadata": {},
   "outputs": [],
   "source": [
    "objects[0].ID"
   ]
  },
  {
   "cell_type": "code",
   "execution_count": null,
   "id": "7aa62ec7",
   "metadata": {},
   "outputs": [],
   "source": [
    "yam.keys()"
   ]
  },
  {
   "cell_type": "code",
   "execution_count": null,
   "id": "ff6cb261",
   "metadata": {},
   "outputs": [],
   "source": [
    "yam['vehicles']"
   ]
  },
  {
   "cell_type": "code",
   "execution_count": null,
   "id": "61f4331e",
   "metadata": {},
   "outputs": [],
   "source": []
  }
 ],
 "metadata": {
  "kernelspec": {
   "display_name": "Python 3 (ipykernel)",
   "language": "python",
   "name": "python3"
  },
  "language_info": {
   "codemirror_mode": {
    "name": "ipython",
    "version": 3
   },
   "file_extension": ".py",
   "mimetype": "text/x-python",
   "name": "python",
   "nbconvert_exporter": "python",
   "pygments_lexer": "ipython3",
   "version": "3.8.16"
  }
 },
 "nbformat": 4,
 "nbformat_minor": 5
}
